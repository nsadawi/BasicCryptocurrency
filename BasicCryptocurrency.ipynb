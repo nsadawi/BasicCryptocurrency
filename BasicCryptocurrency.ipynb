{
 "cells": [
  {
   "cell_type": "markdown",
   "metadata": {},
   "source": [
    "# Creating a Basic Blockchain with Python"
   ]
  },
  {
   "cell_type": "code",
   "execution_count": 1,
   "metadata": {},
   "outputs": [],
   "source": [
    "import hashlib\n",
    "from datetime import datetime"
   ]
  },
  {
   "cell_type": "markdown",
   "metadata": {},
   "source": [
    "## Part 1: A Simple Blockchain\n",
    "\n",
    "#### Remember:\n",
    "- The blockchain is meant to add new blocks\n",
    "- It is not meant to change existing blocks\n",
    "- It is not meant to delete existing blocks"
   ]
  },
  {
   "cell_type": "code",
   "execution_count": null,
   "metadata": {},
   "outputs": [],
   "source": [
    "class Block:\n",
    "    def __init__(self, timestamp, data, previous_hash = ''):\n",
    "        # tells us when the block was created\n",
    "        self.timestamp = timestamp\n",
    "        # data can be anything .. for crypto currency we might store\n",
    "        # details of a transaction such as how much money was transferred \n",
    "        # who the sender is and who the receiver is!\n",
    "        self.data = str(data)\n",
    "        # the hash of the previous block\n",
    "        # imporant for the integrity of the blockchain\n",
    "        self.previous_hash = previous_hash\n",
    "        # the hash of the current block\n",
    "        self.blockhash = self.calculate_hash()\n",
    "        \n",
    "    def calculate_hash(self):\n",
    "        # calculates the hash of the current block\n",
    "        # takes the properties of this block and creates a hash for them!\n",
    "        concat = self.previous_hash + self.timestamp + self.data \n",
    "        return hashlib.sha224(concat.encode('utf-8')).hexdigest()\n",
    "    \n",
    "    def get_block_data(self):\n",
    "        # returns the properties of current block\n",
    "        return {\n",
    "            'timestamp': self.timestamp,\n",
    "            'data': self.data,\n",
    "            'previous_hash': self.previous_hash,\n",
    "            'hash': self.blockhash\n",
    "        }\n",
    "   \n",
    "\n",
    "class BlockChain:\n",
    "    def __init__(self):\n",
    "        # the blockchain is going to be a linked list!\n",
    "        self.chain = []\n",
    "        self.chain.append(self.create_genesis_block())\n",
    "\n",
    "    def create_genesis_block(self):\n",
    "        # creates the very first block in the blockchain\n",
    "        return Block(get_timestamp(), [\"Genesis Block\"], \"0\")\n",
    "    \n",
    "    def get_latest_block(self):\n",
    "        # returns the very last block in the blockchain\n",
    "        return self.chain[-1]\n",
    "    \n",
    "    def add_block(self, new_block):\n",
    "        # adds a new block to the blockchain\n",
    "        # set the previous hash\n",
    "        new_block.previous_hash = self.get_latest_block().blockhash\n",
    "        # recalculate the hash of the current block because we've changed its previous_hash\n",
    "        # every time we change something in the block we need to recalculate its hash\n",
    "        new_block.blockhash = new_block.calculate_hash()\n",
    "        # add the block to the blockchain\n",
    "        self.chain.append(new_block)\n",
    "        \n",
    "    def is_chain_valid(self):\n",
    "        # to verify the integrity of the blockchain\n",
    "        # we go through all blocks (no need to start from the genesis block)\n",
    "        for i in range(1, len(self.chain)):\n",
    "            current = self.chain[i]\n",
    "            previous = self.chain[i-1]\n",
    "            # make sure the hash of the current block is still valid\n",
    "            if current.blockhash != current.calculate_hash():\n",
    "                return False\n",
    "            # make sure the current block is connected to the correct previous block\n",
    "            if current.previous_hash != previous.blockhash:\n",
    "                return False\n",
    "        # if we get here then the blockchain is valid\n",
    "        return True\n",
    "            \n",
    "\n",
    "def get_timestamp():\n",
    "    # A simple function to return the current timestamp!\n",
    "    date = datetime.now()\n",
    "    # convert datetime to timestamp\n",
    "    timestamp = datetime.timestamp(date)\n",
    "    return str(timestamp)\n",
    "\n"
   ]
  },
  {
   "cell_type": "code",
   "execution_count": null,
   "metadata": {},
   "outputs": [],
   "source": [
    "bc = BlockChain()\n",
    "d = {\n",
    "    'Name': 'Noureddin Sadawi',\n",
    "    \"Nationality\": \"Libyan\",\n",
    "    \"Height\": 179,\n",
    "    \"Weight\": 80\n",
    "}\n",
    "bc.add_block(Block(get_timestamp(), d))\n",
    "\n",
    "d = {\n",
    "    'Name': 'Josef Baker',\n",
    "    \"Nationality\": \"British\",\n",
    "    \"Height\": 185,\n",
    "    \"Weight\": 85\n",
    "}\n",
    "bc.add_block(Block(get_timestamp(), d))"
   ]
  },
  {
   "cell_type": "code",
   "execution_count": null,
   "metadata": {},
   "outputs": [],
   "source": [
    "bc.is_chain_valid()"
   ]
  },
  {
   "cell_type": "code",
   "execution_count": null,
   "metadata": {},
   "outputs": [],
   "source": [
    "bc.chain[1].blockhash"
   ]
  },
  {
   "cell_type": "code",
   "execution_count": null,
   "metadata": {},
   "outputs": [],
   "source": [
    "bc.chain[1].data = \"Test\"\n",
    "# even if you recalculate the hash of this block, the blockchain is still invalid\n",
    "# because the relationship with the previous block is now broken. \n",
    "bc.chain[1].blockhash = bc.chain[1].calculate_hash()"
   ]
  },
  {
   "cell_type": "code",
   "execution_count": null,
   "metadata": {},
   "outputs": [],
   "source": [
    "bc.is_chain_valid()"
   ]
  },
  {
   "cell_type": "code",
   "execution_count": null,
   "metadata": {},
   "outputs": [],
   "source": [
    "bc.chain[1].blockhash"
   ]
  },
  {
   "cell_type": "markdown",
   "metadata": {},
   "source": [
    "## Part 2: Proof of Work\n",
    "\n",
    "\n",
    "\n",
    "#### Extension:\n",
    "- Now we can create a transaction, compute its hash and add it to the chain  \n",
    "- Computers can do that very quickly but we don't want that!\n",
    "- We don't want large numbers of blocks added to the blockchain in a short period of time\n",
    "- Also, currently we can change a block and recalculate the hashes of the blocks after it and the blockchain will still be valid\n",
    "- We don't want that!\n",
    "- To avoid that, blockchains have something called Proof of Work!\n",
    "- With this mechanism you have to prove that you have put in a lot of computing power into making a Block\n",
    "- This is called Mining\n",
    "- BitCoin, for example, requires the hash of a block to begin with a certain number of 0's\n",
    "\n",
    "- Because we can't influence the output of a hash function, we must try a large number of times and hope to generate a hash with the required number of leading 0's\n",
    "- This requires a lot of computing power\n",
    "- It is known as the difficulty level\n",
    "- It helps in controlling the number of created valid blocks in a certain period of time\n",
    "- Bitcoin aims for a new block every 10 minutes\n",
    "- As computers get faster over time, they'll require less time to mine a new block\n",
    "- To compensate for that, the difficulty level is increased\n",
    "\n"
   ]
  },
  {
   "cell_type": "code",
   "execution_count": null,
   "metadata": {},
   "outputs": [],
   "source": [
    "class Block:\n",
    "    def __init__(self, timestamp, data, previous_hash = ''):\n",
    "        # tells us when the block was created\n",
    "        self.timestamp = timestamp\n",
    "        # data can be anything .. for crypto currency we might store\n",
    "        # details of a transaction such as how much money was transferred \n",
    "        # who the sender is and who the receiver is!\n",
    "        self.data = str(data)\n",
    "        # the hash of the previous block\n",
    "        # imporant for the integrity of the blockchain\n",
    "        self.previous_hash = previous_hash\n",
    "        # the nonce is needed for mining blocks\n",
    "        self.nonce = 0\n",
    "        # the hash of the current block\n",
    "        self.blockhash = self.calculate_hash()\n",
    "        \n",
    "        \n",
    "    def calculate_hash(self):\n",
    "        # calculates the hash of the current block\n",
    "        # takes the properties of this block and creates a hash for them!\n",
    "        concat = self.previous_hash + self.timestamp + self.data + str(self.nonce)\n",
    "        return hashlib.sha224(concat.encode('utf-8')).hexdigest()\n",
    "    \n",
    "    def mine_block(self, difficulty):\n",
    "        # here we see the benefit of the nonce, we increment it until we get the right hash\n",
    "        # this is because the hash can always be the same with the same block contents\n",
    "        while self.blockhash[:difficulty] != \"0\" * difficulty:\n",
    "            self.nonce = self.nonce + 1\n",
    "            self.blockhash = self.calculate_hash()\n",
    "    \n",
    "    def get_block_data(self):\n",
    "        return {\n",
    "            'timestamp': self.timestamp,\n",
    "            'data': self.data,\n",
    "            'previous_hash': self.previous_hash,\n",
    "            'hash': self.blockhash,\n",
    "            'nonce': self.nonce\n",
    "        }\n",
    "   \n",
    "\n",
    "class BlockChain:\n",
    "    def __init__(self, difficulty=2):\n",
    "        # the blockchain is going to be a linked list!\n",
    "        self.chain = []\n",
    "        self.chain.append(self.create_genesis_block())\n",
    "        self.difficulty = difficulty\n",
    "\n",
    "    def create_genesis_block(self):\n",
    "        # creates the very first block in the blockchain\n",
    "        return Block(get_timestamp(), [\"Genesis Block\"], \"0\")\n",
    "    \n",
    "    def get_latest_block(self):\n",
    "        # returns the very last block in the blockchain\n",
    "        return self.chain[-1]\n",
    "    \n",
    "    def add_block(self, new_block):\n",
    "        # adds a new block to the blockchain\n",
    "        # set the previous hash\n",
    "        new_block.previous_hash = self.get_latest_block().blockhash\n",
    "        # now we call the mine_block method\n",
    "        new_block.mine_block(self.difficulty)\n",
    "        # once the block is mined it is added to the blockchain\n",
    "        self.chain.append(new_block)\n",
    "    \n",
    "        \n",
    "    def is_chain_valid(self):\n",
    "        # to verify the integrity of the blockchain\n",
    "        # we go through all blocks (no need to start from the genesis block)\n",
    "        for i in range(1, len(self.chain)):\n",
    "            current = self.chain[i]\n",
    "            previous = self.chain[i-1]\n",
    "            # make sure the hash of the current block is still valid\n",
    "            if current.blockhash != current.calculate_hash():\n",
    "                return False\n",
    "            # make sure the current block is connected to the correct previous block\n",
    "            if current.previous_hash != previous.blockhash:\n",
    "                return False\n",
    "        # if we get here then the blockchain is valid\n",
    "        return True\n",
    "            \n",
    "\n",
    "def get_timestamp():\n",
    "    # A simple function to return the current timestamp!\n",
    "    date = datetime.now()\n",
    "    # convert datetime to timestamp\n",
    "    timestamp = datetime.timestamp(date)\n",
    "    return str(timestamp)\n",
    "\n"
   ]
  },
  {
   "cell_type": "code",
   "execution_count": null,
   "metadata": {},
   "outputs": [],
   "source": [
    "bc = BlockChain(difficulty=5)\n",
    "d = {\n",
    "    'Name': 'Noureddin Sadawi',\n",
    "    \"Nationality\": \"Libyan\",\n",
    "    \"Height\": 179,\n",
    "    \"Weight\": 80\n",
    "}\n",
    "bc.add_block(Block(get_timestamp(), d))\n",
    "d = {\n",
    "    'Name': 'Josef Baker',\n",
    "    \"Nationality\": \"British\",\n",
    "    \"Height\": 185,\n",
    "    \"Weight\": 85\n",
    "}\n",
    "bc.add_block(Block(get_timestamp(), d))"
   ]
  },
  {
   "cell_type": "code",
   "execution_count": null,
   "metadata": {},
   "outputs": [],
   "source": [
    "bc.chain[2].get_block_data()"
   ]
  },
  {
   "cell_type": "code",
   "execution_count": null,
   "metadata": {},
   "outputs": [],
   "source": [
    "bc.chain[1].blockhash"
   ]
  },
  {
   "cell_type": "markdown",
   "metadata": {},
   "source": [
    "## Part 3: Transactions and Mining Rewards \n",
    "### Transform the Blockchain into a Simple Cryptocurrency¬\n",
    "\n",
    "Extensions:\n",
    "- Now a block can contain more than one transaction\n",
    "- Add rewards for mining\n",
    "- A place to store pending transactions\n",
    "- A new method to mine a new block for pending transactions\n",
    "\n",
    "#### Why do we need pending transactions?\n",
    "Because we create new blocks in a specific interval (Bitcoin makes sure a new block is created every 10mins)\n",
    "\n",
    "All transactions that are made in between blocks are temporarily stored in a pending transactions list so it can be included in the next block!\n",
    "\n",
    "When you start a crypto-currency, you need to have virtual money or coins, you need to introduce them somewhere in the system so that users can get coins. Mining rewards steadily add new coins into the system."
   ]
  },
  {
   "cell_type": "code",
   "execution_count": 2,
   "metadata": {},
   "outputs": [],
   "source": [
    "class Transaction:\n",
    "    def __init__(self, from_address, to_address, amount):\n",
    "        self.from_address = from_address\n",
    "        self.to_address = to_address\n",
    "        self.amount = amount\n",
    "    \n",
    "class Block:\n",
    "    def __init__(self, timestamp, transactions, previous_hash = ''):\n",
    "        # notice no index because the list of blocks is ordered!\n",
    "        self.timestamp = timestamp\n",
    "        self.transactions = transactions\n",
    "        self.previous_hash = previous_hash\n",
    "        self.nonce = 0\n",
    "        self.blockhash = self.calculate_hash()\n",
    "        \n",
    "    def calculate_hash(self):\n",
    "        concat = self.previous_hash + self.timestamp + str(self.transactions) + str(self.nonce)\n",
    "        return hashlib.sha224(concat.encode('utf-8')).hexdigest()\n",
    "    \n",
    "    def mine_block(self, difficulty):\n",
    "        # here we see the benefit of the nonce, we increment it until we get the right hash\n",
    "        # this is because the hash can always be the same with the same block contents\n",
    "        while self.blockhash[:difficulty] != \"0\" * difficulty:\n",
    "            self.nonce = self.nonce + 1\n",
    "            self.blockhash = self.calculate_hash()\n",
    "    \n",
    "    def get_block_data(self):\n",
    "        return {\n",
    "            'timestamp': self.timestamp,\n",
    "            'transactions': self.transactions,\n",
    "            'previous_hash': self.previous_hash,\n",
    "            'hash': self.blockhash\n",
    "        }\n",
    "   \n",
    "\n",
    "class BlockChain:\n",
    "    def __init__(self, difficulty=2):\n",
    "        self.chain = []\n",
    "        self.chain.append(self.create_genesis_block())\n",
    "        self.difficulty = difficulty\n",
    "        # to store pending transactions\n",
    "        # we have pending transactions because we need to \n",
    "        # mine them at every specific time interval\n",
    "        self.pending_transactions = []\n",
    "        # reward for mining a block\n",
    "        self.mining_reward = 100\n",
    "\n",
    "    def create_genesis_block(self):\n",
    "        return Block(get_timestamp(), [Transaction('','',0)], \"0\")\n",
    "\n",
    "    \n",
    "    def get_latest_block(self):\n",
    "        return self.chain[-1]\n",
    "    \n",
    "    #def add_block(self, new_block):\n",
    "    #    new_block.previous_hash = self.get_latest_block().blockhash\n",
    "    #    new_block.mine_block(self.difficulty)\n",
    "    #    #new_block.blockhash = new_block.calculate_hash()\n",
    "    #    self.chain.append(new_block)\n",
    "    \n",
    "    # we replace the add block method with this method\n",
    "    # this method receives an address \n",
    "    # when a miner calls this method it'll pass along its wallet address and say:\n",
    "    # if I successfully mine this block then send the reward to this address\n",
    "    def mine_pending_transactions(self, mining_reward_address):\n",
    "        # we start by creating a new block and pass it all pending transactions\n",
    "        # in a real crypto currency it's not practical to use all pending_transactions\n",
    "        # there is soooo many of them\n",
    "        # you might choose which ones to include\n",
    "        new_block = Block(get_timestamp(), self.pending_transactions)\n",
    "        # after creating the block, we mine it!\n",
    "        new_block.mine_block(self.difficulty)\n",
    "        print('Block mined!')\n",
    "        # add the block to the chain\n",
    "        self.chain.append(new_block)\n",
    "        # reset pending_transactions and give the reward to the miner\n",
    "        # no from address because the system give you the reward!\n",
    "        self.pending_transactions = [\n",
    "            Transaction('', mining_reward_address, self.mining_reward)\n",
    "        ]\n",
    "    \n",
    "        \n",
    "    def create_transaction(self, transaction):\n",
    "        # receives a trasaction and adds it to the list of pending trasactions\n",
    "        self.pending_transactions.append(transaction)\n",
    "        \n",
    "    def get_balance(self, address):\n",
    "        # This method checks the balance of an address\n",
    "        # In reality we don't have a balance\n",
    "        # You need to go thru all transactions that involve your address and \n",
    "        # compute the balance\n",
    "        balance = 0\n",
    "        for b in self.chain:\n",
    "            for trans in b.transactions:\n",
    "                # if you're the from_address then you're transferring to someone else\n",
    "                if trans.from_address == address:\n",
    "                    balance = balance - trans.amount\n",
    "                # if you're the to_address then you're receiving from someone else\n",
    "                if trans.to_address == address:\n",
    "                    balance = balance + trans.amount\n",
    "        return balance\n",
    "        \n",
    "    def is_chain_valid(self):\n",
    "        # to verify the integrity of the blockchain\n",
    "        # we go through all blocks (no need to start from the genesis block)\n",
    "        for i in range(1, len(self.chain)):\n",
    "            current = self.chain[i]\n",
    "            previous = self.chain[i-1]\n",
    "            # make sure the hash of the current block is still valid\n",
    "            if current.blockhash != current.calculate_hash():\n",
    "                return False\n",
    "            # make sure the current block is connected to the correct previous block\n",
    "            if current.previous_hash != previous.blockhash:\n",
    "                return False\n",
    "        # if we get here then the blockchain is valid\n",
    "        return True\n",
    "    \n",
    "    \n",
    "\n",
    "def get_timestamp():\n",
    "    # A simple function to return the current timestamp!\n",
    "    date = datetime.now()\n",
    "    # convert datetime to timestamp\n",
    "    timestamp = datetime.timestamp(date)\n",
    "    return str(timestamp)\n",
    "\n"
   ]
  },
  {
   "cell_type": "code",
   "execution_count": 3,
   "metadata": {},
   "outputs": [],
   "source": [
    "bc = BlockChain()"
   ]
  },
  {
   "cell_type": "code",
   "execution_count": 4,
   "metadata": {},
   "outputs": [
    {
     "data": {
      "text/plain": [
       "[]"
      ]
     },
     "execution_count": 4,
     "metadata": {},
     "output_type": "execute_result"
    }
   ],
   "source": [
    "bc.pending_transactions"
   ]
  },
  {
   "cell_type": "code",
   "execution_count": 5,
   "metadata": {},
   "outputs": [],
   "source": [
    "## in reality address 1 and address 2 would be the public key of someone's wallet\n",
    "bc.create_transaction(Transaction('address1','address2',100))\n",
    "bc.create_transaction(Transaction('address2','address1',50))"
   ]
  },
  {
   "cell_type": "code",
   "execution_count": 6,
   "metadata": {},
   "outputs": [
    {
     "name": "stdout",
     "output_type": "stream",
     "text": [
      "Block mined!\n"
     ]
    }
   ],
   "source": [
    "# After creating the transactions, they will be pending\n",
    "# We have to start the miner to actually create a block for them and store them in the blockchain\n",
    "bc.mine_pending_transactions('noureddin\\'s-address')"
   ]
  },
  {
   "cell_type": "code",
   "execution_count": 7,
   "metadata": {},
   "outputs": [
    {
     "data": {
      "text/plain": [
       "0"
      ]
     },
     "execution_count": 7,
     "metadata": {},
     "output_type": "execute_result"
    }
   ],
   "source": [
    "# Check the balance\n",
    "bc.get_balance('noureddin\\'s-address')"
   ]
  },
  {
   "cell_type": "code",
   "execution_count": null,
   "metadata": {},
   "outputs": [],
   "source": [
    "# Balance is 0 because in our mining method after a block has been mined, we create a new transaction\n",
    "# to give you your mining reward and that transaction is added to the pending transactions list\n",
    "# So the mining reward will only be sent when the next block is mined"
   ]
  },
  {
   "cell_type": "code",
   "execution_count": 8,
   "metadata": {},
   "outputs": [
    {
     "name": "stdout",
     "output_type": "stream",
     "text": [
      "Block mined!\n"
     ]
    }
   ],
   "source": [
    "# Let's mine another one then!\n",
    "bc.mine_pending_transactions('noureddin\\'s-address')"
   ]
  },
  {
   "cell_type": "code",
   "execution_count": 9,
   "metadata": {},
   "outputs": [
    {
     "data": {
      "text/plain": [
       "100"
      ]
     },
     "execution_count": 9,
     "metadata": {},
     "output_type": "execute_result"
    }
   ],
   "source": [
    "# Check the balance again!\n",
    "bc.get_balance('noureddin\\'s-address')"
   ]
  },
  {
   "cell_type": "code",
   "execution_count": null,
   "metadata": {},
   "outputs": [],
   "source": [
    "# But after the second mining, we get a new reward which \n",
    "# is in pending transactions and will be included in the next block that is mine"
   ]
  },
  {
   "cell_type": "code",
   "execution_count": 10,
   "metadata": {},
   "outputs": [
    {
     "data": {
      "text/plain": [
       "50"
      ]
     },
     "execution_count": 10,
     "metadata": {},
     "output_type": "execute_result"
    }
   ],
   "source": [
    "bc.get_balance('address2')"
   ]
  },
  {
   "cell_type": "markdown",
   "metadata": {},
   "source": [
    "## 4. Signing Transactions\n",
    "\n",
    "Needed for security\n",
    "* The problem with the current version is that anyone can make any transaction that they want.\n",
    "* Effectively you can spend coins that aren't yours.\n",
    "* To solve that we'll make it mandatory for transactions to be signed with a private and public key.\n",
    "* That way you can only spend coins in a wallet if you have its private key"
   ]
  },
  {
   "cell_type": "code",
   "execution_count": null,
   "metadata": {},
   "outputs": [],
   "source": [
    "#!pip install ecdsa"
   ]
  },
  {
   "cell_type": "code",
   "execution_count": 11,
   "metadata": {},
   "outputs": [],
   "source": [
    "import ecdsa\n",
    "import base64\n"
   ]
  },
  {
   "cell_type": "code",
   "execution_count": 12,
   "metadata": {},
   "outputs": [],
   "source": [
    "class Transaction:\n",
    "    ## Now we need to sign the transaction\n",
    "    # and we need a method to check if this signature is valid\n",
    "    ## we're going to sign the hash of the transaction\n",
    "    def __init__(self, from_address, to_address, amount):\n",
    "        self.from_address = from_address\n",
    "        self.to_address = to_address\n",
    "        self.amount = amount\n",
    "        self.signature = None\n",
    "    \n",
    "    def calculate_hash(self):\n",
    "        ## we're going to sign the hash of the transaction (not all data)\n",
    "        ## Creates a SHA256 hash of the transaction\n",
    "        concat = self.from_address + self.to_address + str(self.amount)\n",
    "        return hashlib.sha224(concat.encode('utf-8')).hexdigest()\n",
    "    \n",
    "    \n",
    "    ## Signs a transaction with the given signingKey (which is an Elliptic keypair\n",
    "    ## object that contains a private key). The signature is then stored inside the\n",
    "    ## transaction object and later stored on the blockchain.\n",
    "    def sign_transaction(self, signing_key):\n",
    "        ## check if your public key == the from address\n",
    "        ## You can only spend coins from the wallet you have the private key of!\n",
    "        ## because the priv key is linked to the public key, that means the from add\n",
    "        ## in the transaction has to equal your public key\n",
    "        if signing_key.get_verifying_key().to_string().hex() != self.from_address:\n",
    "            raise ValueError('Error. You cannot sign transactions for other wallets!')\n",
    "        \n",
    "        ## Calculate the hash of this transaction, sign it with the key\n",
    "        ## and store it inside the transaction object\n",
    "        trans_hash = self.calculate_hash()\n",
    "        signature = signing_key.sign(bytes(trans_hash.encode('utf-8')))\n",
    "        self.signature = signature\n",
    "        \n",
    "    ## Checks if the signature is valid (transaction has not been tampered with).\n",
    "    ## It uses the from_address as the public key.\n",
    "    def is_valid(self):\n",
    "        ## check if transaction has been correctly signed\n",
    "        if self.from_address == None: ## mining reward transaction (from_address is not filled in)\n",
    "            ## mining reward transactions are not signed but they are valid\n",
    "            return True\n",
    "        ## if transaction needs a signature, make sure there is a signature\n",
    "        ## (from_address is filled in)\n",
    "        ## You can only send a transaction from the wallet that is linked to your\n",
    "        ## key. So here we check if the from_address matches your publicKey\n",
    "        if (self.signature == None) or (len(self.signature) == 0):\n",
    "            raise ValueError('Error. No signature in this transaction!')\n",
    "        \n",
    "        ## check if transaction was signed with the correct key\n",
    "        ## remember the from_address is a public key\n",
    "        ## from https://www.py4u.net/discuss/164146\n",
    "        ## create a verification key from from_address (remember it's a public key)\n",
    "        \n",
    "        vk = ecdsa.VerifyingKey.from_string(bytes.fromhex(self.from_address), curve=ecdsa.SECP256k1)\n",
    "        ## we want to verify that the hash of this block has been signed by this signature\n",
    "        ##print(self.calculate_hash())\n",
    "        return vk.verify(self.signature, bytes(self.calculate_hash().encode('utf-8'))) # True or False\n",
    "\n",
    "class Block:\n",
    "    def __init__(self, timestamp, transactions, previous_hash = ''):\n",
    "        self.timestamp = timestamp\n",
    "        self.transactions = transactions\n",
    "        self.previous_hash = previous_hash\n",
    "        self.nonce = 0\n",
    "        self.blockhash = self.calculate_hash()\n",
    "        \n",
    "    ## Returns the SHA256 of this block (by processing all the data stored\n",
    "    ## inside this block)\n",
    "    def calculate_hash(self):\n",
    "        concat = self.previous_hash + self.timestamp + str(self.transactions) + str(self.nonce)\n",
    "        return hashlib.sha224(concat.encode('utf-8')).hexdigest()\n",
    "    \n",
    "    ## Starts the mining process on the block. It changes the 'nonce' until the hash\n",
    "    ## of the block starts with enough zeros (= difficulty)\n",
    "    def mine_block(self, difficulty):\n",
    "        # here we see the benefit of the nonce, we increment it until we get the right hash\n",
    "        # this is because the hash can always be the same with the same block contents\n",
    "        while self.blockhash[:difficulty] != \"0\" * difficulty:\n",
    "            self.nonce = self.nonce + 1\n",
    "            self.blockhash = self.calculate_hash()\n",
    "    \n",
    "    ## Get details of the this block\n",
    "    def get_block_data(self):\n",
    "        return {\n",
    "            'timestamp': self.timestamp,\n",
    "            'transactions': self.transactions,\n",
    "            'previous_hash': self.previous_hash,\n",
    "            'hash': self.blockhash\n",
    "        }\n",
    "    \n",
    "    ## Validates all the transactions inside this block (signature + hash) and\n",
    "    ## returns true if everything checks out. False if the block is invalid.\n",
    "    def has_valid_transactions(self):\n",
    "        ## verify all all transactions in the current block\n",
    "        ## iteratue thru all transactions in the current block\n",
    "        for trans in self.transactions:\n",
    "            if not trans.is_valid():\n",
    "                return False\n",
    "        return True\n",
    "    \n",
    "\n",
    "class BlockChain:\n",
    "    def __init__(self, difficulty=2):\n",
    "        self.chain = []\n",
    "        self.chain.append(self.create_genesis_block())\n",
    "        self.difficulty = difficulty\n",
    "        self.pending_transactions = []\n",
    "        self.mining_reward = 100\n",
    "\n",
    "    ## Create the very first block on the chain\n",
    "    def create_genesis_block(self):\n",
    "        return Block(get_timestamp(), [Transaction('','',0)], \"0\")\n",
    "\n",
    "    ## Returns the latest block on our chain. Useful when you want to create a\n",
    "    ## new Block and you need the hash of the previous Block.\n",
    "    def get_latest_block(self):\n",
    "        return self.chain[-1]\n",
    "    \n",
    "    #def add_block(self, new_block):\n",
    "    #    new_block.previous_hash = self.get_latest_block().blockhash\n",
    "    #    new_block.mine_block(self.difficulty)\n",
    "    #    #new_block.blockhash = new_block.calculate_hash()\n",
    "    #    self.chain.append(new_block)\n",
    "    \n",
    "    \n",
    "    ## Takes all the pending transactions, puts them in a Block and starts the\n",
    "    ## mining process. It also adds a transaction to send the mining reward to\n",
    "    ## the given address.\n",
    "    def mine_pending_transactions(self, mining_reward_address):\n",
    "        # in a real crypto currency it's not practical to use all pending_transactions\n",
    "        # there is soooo many of them\n",
    "        # you might choose which ones to include\n",
    "        \n",
    "        # reset pending_transactions\n",
    "        self.pending_transactions.append(\n",
    "            Transaction(None, mining_reward_address, self.mining_reward)\n",
    "        )\n",
    "        # create a new block by adding the pending_transactions and the hash of the latest block\n",
    "        new_block = Block(get_timestamp(), self.pending_transactions, self.get_latest_block().blockhash)\n",
    "        new_block.mine_block(self.difficulty)\n",
    "        # print('Block mined!')\n",
    "        self.chain.append(new_block)\n",
    "        self.pending_transactions = []\n",
    "        \n",
    "    \n",
    "    ## Add a new transaction to the list of pending transactions (to be added\n",
    "    ## next time the mining process starts). This verifies that the given\n",
    "    ## transaction is properly signed.\n",
    "    def add_transaction(self, transaction):\n",
    "        # we're not creating a transaction, we're receiving it and adding it to the pending_transactions list\n",
    "        if (transaction.from_address == None) or (transaction.to_address == None):\n",
    "            raise ValueError('Error. Transaction must have from and to addresses!')\n",
    "        # make sure transaction is valid (verify it)\n",
    "        if not transaction.is_valid():\n",
    "            raise ValueError('Error. Cannot add invalid transaction to the chain!')\n",
    "        \n",
    "        ## Making sure that the amount is > 0\n",
    "        if transaction.amount <= 0:\n",
    "            raise ValueError('Error. Transaction amount should be greater than 0!')\n",
    "            \n",
    "        ## Making sure that the amount sent is not greater than existing balance\n",
    "        #if self.get_balance(transaction.from_address) < transaction.amount:\n",
    "        #    print(self.get_balance(transaction.from_address))\n",
    "        #    print(transaction.amount)\n",
    "        #    raise ValueError('Error. Not enough balance!')\n",
    "          \n",
    "        self.pending_transactions.append(transaction)\n",
    "        \n",
    "        \n",
    "    ## Returns the balance of a given wallet address.    \n",
    "    def get_balance(self, address):\n",
    "        balance = 0\n",
    "        for b in self.chain:\n",
    "            for trans in b.transactions:\n",
    "                if trans.from_address == address:\n",
    "                    balance = balance - trans.amount\n",
    "                if trans.to_address == address:\n",
    "                    balance = balance + trans.amount\n",
    "        return balance\n",
    "        \n",
    "    ## Loops over all the blocks in the chain and verify if they are properly\n",
    "    ## linked together and nobody has tampered with the hashes. By checking\n",
    "    ## the blocks it also verifies the (signed) transactions inside of them.\n",
    "    def is_chain_valid(self):\n",
    "        ## TODO?: Check if the Genesis block hasn't been tampered with by comparing\n",
    "        ## the output of create_genesis_block with the first block on our chain??\n",
    "    \n",
    "        # Goes thru all blocks in the chain and verifies that the hashes are correct\n",
    "        # and each block links to the previous block\n",
    "        # we'll also need to verify that all the transactions in the current block are valid\n",
    "        for i in range(1, len(self.chain)):\n",
    "            #Check the remaining blocks on the chain to see if there hashes and\n",
    "            # signatures are correct\n",
    "            current = self.chain[i]\n",
    "            previous = self.chain[i-1]\n",
    "            \n",
    "            if not current.has_valid_transactions():\n",
    "                return False\n",
    "            \n",
    "            if current.blockhash != current.calculate_hash():\n",
    "                return False\n",
    "            if current.previous_hash != previous.calculate_hash():\n",
    "                return False\n",
    "        return True\n",
    "            \n",
    "## Returns a timestamp of NOW\n",
    "def get_timestamp():\n",
    "    date = datetime.now()\n",
    "    # convert datetime to timestamp\n",
    "    timestamp = datetime.timestamp(date)\n",
    "    return str(timestamp)\n",
    "\n"
   ]
  },
  {
   "cell_type": "code",
   "execution_count": 13,
   "metadata": {},
   "outputs": [
    {
     "name": "stdout",
     "output_type": "stream",
     "text": [
      "c450c9bf7d174734b222e9777a80dba9728e1eab26ef3219b5f2df360084ff96\n",
      "835233605009cf77e3574698990dd08b0b44392eca64570ec8ad3ff1a8b0de53222ef25dcd93a77b05abda2f27ae31a23df3afc1cce39e31ae0574179ea9f142\n"
     ]
    }
   ],
   "source": [
    "\n",
    "sk = ecdsa.SigningKey.generate(curve=ecdsa.SECP256k1) #this is your sign key (private key)\n",
    "private_key = sk.to_string().hex() #convert your private key to hex\n",
    "vk = sk.get_verifying_key() #this is your verification key (public key)\n",
    "public_key = vk.to_string().hex()#this is the wallet address\n",
    "\n",
    "# We need them to sign transactions and to verify our balance (how much money is in our wallet)\n",
    "print(private_key)\n",
    "print(public_key)"
   ]
  },
  {
   "cell_type": "code",
   "execution_count": 14,
   "metadata": {},
   "outputs": [],
   "source": [
    "coin = BlockChain()\n",
    "# Create a transaction.. from my wallet to someone else's wallet\n",
    "tx1 = Transaction(public_key, 'someone else\\'s public key', 10)\n",
    "# We have to sign the transaction then add it to the Blockchain\n",
    "tx1.sign_transaction(sk)\n",
    "coin.add_transaction(tx1)\n",
    "\n",
    "# When we mine, we have to specify where the mining reward goes\n",
    "# If we use an address that does not exist, the coins will be sent \n",
    "# to a wallet and nobody will be able to access it because nobody has\n",
    "# the private key of that wallet\n",
    "# Let's send the reward to my wallet (by using my public key)\n",
    "coin.mine_pending_transactions(public_key)"
   ]
  },
  {
   "cell_type": "code",
   "execution_count": 15,
   "metadata": {},
   "outputs": [
    {
     "data": {
      "text/plain": [
       "90"
      ]
     },
     "execution_count": 15,
     "metadata": {},
     "output_type": "execute_result"
    }
   ],
   "source": [
    "# Why 90?\n",
    "# Because when we mine a block we get a 100 coins (and we have spent 10 of them)\n",
    "coin.get_balance(public_key)"
   ]
  },
  {
   "cell_type": "code",
   "execution_count": 16,
   "metadata": {},
   "outputs": [
    {
     "data": {
      "text/plain": [
       "True"
      ]
     },
     "execution_count": 16,
     "metadata": {},
     "output_type": "execute_result"
    }
   ],
   "source": [
    "coin.is_chain_valid()"
   ]
  },
  {
   "cell_type": "code",
   "execution_count": 17,
   "metadata": {},
   "outputs": [
    {
     "data": {
      "text/plain": [
       "{'timestamp': '1675625919.196356',\n",
       " 'transactions': [<__main__.Transaction at 0x1105c39d0>],\n",
       " 'previous_hash': '0',\n",
       " 'hash': '84c7ad5431f27ad370f85773b82ad39c1c504b20b860f1aae61151f0'}"
      ]
     },
     "execution_count": 17,
     "metadata": {},
     "output_type": "execute_result"
    }
   ],
   "source": [
    "(coin.chain[0].get_block_data())"
   ]
  },
  {
   "cell_type": "code",
   "execution_count": 18,
   "metadata": {},
   "outputs": [
    {
     "data": {
      "text/plain": [
       "'835233605009cf77e3574698990dd08b0b44392eca64570ec8ad3ff1a8b0de53222ef25dcd93a77b05abda2f27ae31a23df3afc1cce39e31ae0574179ea9f142'"
      ]
     },
     "execution_count": 18,
     "metadata": {},
     "output_type": "execute_result"
    }
   ],
   "source": [
    "public_key"
   ]
  },
  {
   "cell_type": "code",
   "execution_count": null,
   "metadata": {},
   "outputs": [],
   "source": []
  }
 ],
 "metadata": {
  "kernelspec": {
   "display_name": "Python 3",
   "language": "python",
   "name": "python3"
  },
  "language_info": {
   "codemirror_mode": {
    "name": "ipython",
    "version": 3
   },
   "file_extension": ".py",
   "mimetype": "text/x-python",
   "name": "python",
   "nbconvert_exporter": "python",
   "pygments_lexer": "ipython3",
   "version": "3.7.6"
  }
 },
 "nbformat": 4,
 "nbformat_minor": 4
}
